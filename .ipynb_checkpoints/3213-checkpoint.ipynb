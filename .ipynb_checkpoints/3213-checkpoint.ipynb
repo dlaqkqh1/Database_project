{
 "cells": [
  {
   "cell_type": "code",
   "execution_count": 1,
   "metadata": {},
   "outputs": [],
   "source": [
    "import pandas as pd\n",
    "import matplotlib.pyplot as plt"
   ]
  },
  {
   "cell_type": "markdown",
   "metadata": {},
   "source": [
    "# 그래프 한글 설정"
   ]
  },
  {
   "cell_type": "code",
   "execution_count": 2,
   "metadata": {},
   "outputs": [],
   "source": [
    "import platform\n",
    "from matplotlib import font_manager, rc\n",
    "plt.rcParams['axes.unicode_minus'] = False\n",
    "\n",
    "if platform.system() == 'Darwin':\n",
    "    rc('font', family='AppleGothic')\n",
    "elif platform.system() == 'Windows':\n",
    "    path = \"c:/Windows/Fonts/malgun.ttf\"\n",
    "    font_name = font_manager.FontProperties(fname=path).get_name()\n",
    "    rc('font', family=font_name)\n",
    "else:\n",
    "    print(\"Unknown system\")"
   ]
  },
  {
   "cell_type": "markdown",
   "metadata": {},
   "source": [
    "# 상관분석 데이터 불러오기"
   ]
  },
  {
   "cell_type": "code",
   "execution_count": 3,
   "metadata": {
    "scrolled": true
   },
   "outputs": [],
   "source": [
    "df = pd.read_csv('correlation analysis.csv', engine = 'python')"
   ]
  },
  {
   "cell_type": "code",
   "execution_count": 4,
   "metadata": {
    "scrolled": true
   },
   "outputs": [
    {
     "data": {
      "text/html": [
       "<div>\n",
       "<style scoped>\n",
       "    .dataframe tbody tr th:only-of-type {\n",
       "        vertical-align: middle;\n",
       "    }\n",
       "\n",
       "    .dataframe tbody tr th {\n",
       "        vertical-align: top;\n",
       "    }\n",
       "\n",
       "    .dataframe thead th {\n",
       "        text-align: right;\n",
       "    }\n",
       "</style>\n",
       "<table border=\"1\" class=\"dataframe\">\n",
       "  <thead>\n",
       "    <tr style=\"text-align: right;\">\n",
       "      <th></th>\n",
       "      <th>자격증</th>\n",
       "      <th>DA</th>\n",
       "      <th>데이터 개발자</th>\n",
       "      <th>데이터 엔지니어</th>\n",
       "      <th>데이터 분석가</th>\n",
       "      <th>DBA</th>\n",
       "      <th>데이터 사이언티스트</th>\n",
       "      <th>데이터 컨설턴트</th>\n",
       "      <th>데이터 기획/마케터</th>\n",
       "    </tr>\n",
       "  </thead>\n",
       "  <tbody>\n",
       "    <tr>\n",
       "      <th>0</th>\n",
       "      <td>데이터아키텍쳐전문가(DAP)</td>\n",
       "      <td>0.738035</td>\n",
       "      <td>0.717233</td>\n",
       "      <td>0.639505</td>\n",
       "      <td>0.755782</td>\n",
       "      <td>0.689856</td>\n",
       "      <td>0.688111</td>\n",
       "      <td>0.619113</td>\n",
       "      <td>0.603499</td>\n",
       "    </tr>\n",
       "    <tr>\n",
       "      <th>1</th>\n",
       "      <td>데이터아키텍쳐준전문가(DAsP)</td>\n",
       "      <td>0.379039</td>\n",
       "      <td>0.361748</td>\n",
       "      <td>0.274539</td>\n",
       "      <td>0.422508</td>\n",
       "      <td>0.316999</td>\n",
       "      <td>0.325537</td>\n",
       "      <td>0.256258</td>\n",
       "      <td>0.246971</td>\n",
       "    </tr>\n",
       "    <tr>\n",
       "      <th>2</th>\n",
       "      <td>SQL전문가(SQLP)</td>\n",
       "      <td>0.861501</td>\n",
       "      <td>0.840690</td>\n",
       "      <td>0.801002</td>\n",
       "      <td>0.834965</td>\n",
       "      <td>0.841397</td>\n",
       "      <td>0.856044</td>\n",
       "      <td>0.777941</td>\n",
       "      <td>0.760685</td>\n",
       "    </tr>\n",
       "    <tr>\n",
       "      <th>3</th>\n",
       "      <td>SQL개발자(SQLD)</td>\n",
       "      <td>0.601651</td>\n",
       "      <td>0.581404</td>\n",
       "      <td>0.522586</td>\n",
       "      <td>0.602956</td>\n",
       "      <td>0.561796</td>\n",
       "      <td>0.585067</td>\n",
       "      <td>0.499252</td>\n",
       "      <td>0.486296</td>\n",
       "    </tr>\n",
       "    <tr>\n",
       "      <th>4</th>\n",
       "      <td>데이터분석전문가(ADP)</td>\n",
       "      <td>0.165059</td>\n",
       "      <td>0.152026</td>\n",
       "      <td>0.047341</td>\n",
       "      <td>0.241226</td>\n",
       "      <td>0.089175</td>\n",
       "      <td>0.084444</td>\n",
       "      <td>0.034732</td>\n",
       "      <td>0.029370</td>\n",
       "    </tr>\n",
       "    <tr>\n",
       "      <th>5</th>\n",
       "      <td>데이터분석준전문가(ADsP)</td>\n",
       "      <td>0.620756</td>\n",
       "      <td>0.603616</td>\n",
       "      <td>0.497764</td>\n",
       "      <td>0.676549</td>\n",
       "      <td>0.553504</td>\n",
       "      <td>0.533849</td>\n",
       "      <td>0.481866</td>\n",
       "      <td>0.468437</td>\n",
       "    </tr>\n",
       "    <tr>\n",
       "      <th>6</th>\n",
       "      <td>정보처리기사</td>\n",
       "      <td>0.809996</td>\n",
       "      <td>0.791197</td>\n",
       "      <td>0.671678</td>\n",
       "      <td>0.876358</td>\n",
       "      <td>0.739505</td>\n",
       "      <td>0.686997</td>\n",
       "      <td>0.660436</td>\n",
       "      <td>0.643083</td>\n",
       "    </tr>\n",
       "  </tbody>\n",
       "</table>\n",
       "</div>"
      ],
      "text/plain": [
       "                  자격증        DA   데이터 개발자  데이터 엔지니어   데이터 분석가       DBA  \\\n",
       "0    데이터아키텍쳐전문가(DAP)   0.738035  0.717233  0.639505  0.755782  0.689856   \n",
       "1  데이터아키텍쳐준전문가(DAsP)   0.379039  0.361748  0.274539  0.422508  0.316999   \n",
       "2       SQL전문가(SQLP)   0.861501  0.840690  0.801002  0.834965  0.841397   \n",
       "3       SQL개발자(SQLD)   0.601651  0.581404  0.522586  0.602956  0.561796   \n",
       "4      데이터분석전문가(ADP)   0.165059  0.152026  0.047341  0.241226  0.089175   \n",
       "5    데이터분석준전문가(ADsP)   0.620756  0.603616  0.497764  0.676549  0.553504   \n",
       "6             정보처리기사   0.809996  0.791197  0.671678  0.876358  0.739505   \n",
       "\n",
       "   데이터 사이언티스트  데이터 컨설턴트  데이터 기획/마케터  \n",
       "0    0.688111  0.619113    0.603499  \n",
       "1    0.325537  0.256258    0.246971  \n",
       "2    0.856044  0.777941    0.760685  \n",
       "3    0.585067  0.499252    0.486296  \n",
       "4    0.084444  0.034732    0.029370  \n",
       "5    0.533849  0.481866    0.468437  \n",
       "6    0.686997  0.660436    0.643083  "
      ]
     },
     "execution_count": 4,
     "metadata": {},
     "output_type": "execute_result"
    }
   ],
   "source": [
    "df"
   ]
  },
  {
   "cell_type": "code",
   "execution_count": 5,
   "metadata": {},
   "outputs": [],
   "source": [
    "words = ['설계','관리','데이터베이스','품질','모델링','개발자','분석','과학','관리','개발','활용','제공','관리','언어','SQL','python','다양','DB','서버','분석','머신러닝','분류','수학']"
   ]
  },
  {
   "cell_type": "code",
   "execution_count": 7,
   "metadata": {
    "scrolled": true
   },
   "outputs": [],
   "source": [
    "words\n",
    "global da, datadev, dataeng, dataanal, dba , datascien\n",
    "da, datadev, dataeng, dataanal, dba , datascien = 0, 0, 0, 0, 0, 0"
   ]
  },
  {
   "cell_type": "markdown",
   "metadata": {},
   "source": [
    "# 워드 클라우드로 알아낸 단어 빈도 수를 이용한 비율"
   ]
  },
  {
   "cell_type": "code",
   "execution_count": 8,
   "metadata": {},
   "outputs": [],
   "source": [
    "da_dic = {'설계':0.25, '관리':0.22, '데이터베이스':0.2, '품질':0.17, '모델링':0.14}\n",
    "datadev_dic = {'데이터베이스':0.45, '개발자':0.27, '분석':0.11, '과학':0.08,'관리':0.08}\n",
    "dataeng_dic = {'개발':0.21, '분석':0.21, '활용':0.2, '제공':0.18, '가공':0.17}\n",
    "dataanal_dic = {'분석':0.39, '언어':0.34, 'SQL':0.1, 'python':0.08, '다양':0.08}\n",
    "dba_dic = {'데이터베이스':0.34, 'DB':0.2, '관리':0.16, '서버':0.15, '개발':0.14}\n",
    "datascien_dic = {'분석':0.29, '머신러닝':0.27, '분류':0.15, '활용':0.15, '수학':0.11}"
   ]
  },
  {
   "cell_type": "code",
   "execution_count": 9,
   "metadata": {},
   "outputs": [],
   "source": [
    "def score(word):\n",
    "    global da, datadev, dataeng, dataanal, dba , datascien\n",
    "    try:  \n",
    "        da += da_dic[word]\n",
    "    except:\n",
    "        pass\n",
    "    try:\n",
    "        datadev += datadev_dic[word]\n",
    "    except:\n",
    "        pass    \n",
    "    try:\n",
    "        dataeng += dataeng_dic[word]\n",
    "    except:\n",
    "        pass    \n",
    "    try:\n",
    "        dataanal += dataanal_dic[word]\n",
    "    except:\n",
    "        pass    \n",
    "    try:\n",
    "        dba += dba_dic[word]\n",
    "    except:\n",
    "        pass    \n",
    "    try:\n",
    "        datascien += datascien_dic[word]\n",
    "    except:\n",
    "        pass"
   ]
  },
  {
   "cell_type": "code",
   "execution_count": 10,
   "metadata": {
    "scrolled": true
   },
   "outputs": [
    {
     "name": "stdout",
     "output_type": "stream",
     "text": [
      "['설계', '관리', '데이터베이스', '품질', '모델링', '개발자', '분석', '과학', '관리', '개발', '활용', '제공', '관리', '언어', 'SQL', 'python', '다양', 'DB', '서버', '분석', '머신러닝', '분류', '수학']\n"
     ]
    }
   ],
   "source": [
    "print(words)"
   ]
  },
  {
   "cell_type": "markdown",
   "metadata": {},
   "source": [
    "# 키워드 중 5가지를 입력"
   ]
  },
  {
   "cell_type": "code",
   "execution_count": 11,
   "metadata": {
    "scrolled": true
   },
   "outputs": [
    {
     "name": "stdout",
     "output_type": "stream",
     "text": [
      "설계\n",
      "관리\n",
      "서버\n",
      "분석\n",
      "SQL\n",
      "당신의 추천 직업은...데이터 분석가\n"
     ]
    },
    {
     "data": {
      "text/html": [
       "<div>\n",
       "<style scoped>\n",
       "    .dataframe tbody tr th:only-of-type {\n",
       "        vertical-align: middle;\n",
       "    }\n",
       "\n",
       "    .dataframe tbody tr th {\n",
       "        vertical-align: top;\n",
       "    }\n",
       "\n",
       "    .dataframe thead th {\n",
       "        text-align: right;\n",
       "    }\n",
       "</style>\n",
       "<table border=\"1\" class=\"dataframe\">\n",
       "  <thead>\n",
       "    <tr style=\"text-align: right;\">\n",
       "      <th></th>\n",
       "      <th>자격증</th>\n",
       "      <th>데이터 분석가</th>\n",
       "    </tr>\n",
       "  </thead>\n",
       "  <tbody>\n",
       "    <tr>\n",
       "      <th>6</th>\n",
       "      <td>정보처리기사</td>\n",
       "      <td>0.876358</td>\n",
       "    </tr>\n",
       "    <tr>\n",
       "      <th>2</th>\n",
       "      <td>SQL전문가(SQLP)</td>\n",
       "      <td>0.834965</td>\n",
       "    </tr>\n",
       "    <tr>\n",
       "      <th>0</th>\n",
       "      <td>데이터아키텍쳐전문가(DAP)</td>\n",
       "      <td>0.755782</td>\n",
       "    </tr>\n",
       "    <tr>\n",
       "      <th>5</th>\n",
       "      <td>데이터분석준전문가(ADsP)</td>\n",
       "      <td>0.676549</td>\n",
       "    </tr>\n",
       "    <tr>\n",
       "      <th>3</th>\n",
       "      <td>SQL개발자(SQLD)</td>\n",
       "      <td>0.602956</td>\n",
       "    </tr>\n",
       "    <tr>\n",
       "      <th>1</th>\n",
       "      <td>데이터아키텍쳐준전문가(DAsP)</td>\n",
       "      <td>0.422508</td>\n",
       "    </tr>\n",
       "    <tr>\n",
       "      <th>4</th>\n",
       "      <td>데이터분석전문가(ADP)</td>\n",
       "      <td>0.241226</td>\n",
       "    </tr>\n",
       "  </tbody>\n",
       "</table>\n",
       "</div>"
      ],
      "text/plain": [
       "                  자격증   데이터 분석가\n",
       "6             정보처리기사   0.876358\n",
       "2       SQL전문가(SQLP)   0.834965\n",
       "0    데이터아키텍쳐전문가(DAP)   0.755782\n",
       "5    데이터분석준전문가(ADsP)   0.676549\n",
       "3       SQL개발자(SQLD)   0.602956\n",
       "1  데이터아키텍쳐준전문가(DAsP)   0.422508\n",
       "4      데이터분석전문가(ADP)   0.241226"
      ]
     },
     "execution_count": 11,
     "metadata": {},
     "output_type": "execute_result"
    }
   ],
   "source": [
    "for x in range(5):\n",
    "    score(input())\n",
    "your_job = max(da, datadev, dataeng, dataanal, dba , datascien)\n",
    "if your_job == da:\n",
    "    job = 'DA'\n",
    "elif your_job == datadev:\n",
    "    job = '데이터 개발자'\n",
    "elif your_job == dataeng:\n",
    "    job = '데이터 엔지니어'\n",
    "elif your_job == dataanal:\n",
    "    job = '데이터 분석가'\n",
    "elif your_job == dba:\n",
    "    job = 'DBA'\n",
    "elif your_job == datascien:\n",
    "    job = '데이터 사이언티스트'\n",
    "else:\n",
    "    print('niami')\n",
    "print('당신의 추천 직업은...' + job)\n",
    "df2 = df.sort_values(by=job, ascending=False).groupby('자격증').head()[['자격증', job]]\n",
    "df2"
   ]
  },
  {
   "cell_type": "markdown",
   "metadata": {},
   "source": [
    "# 추천 자격증을 상관계수와 함께 시각화"
   ]
  },
  {
   "cell_type": "code",
   "execution_count": 15,
   "metadata": {
    "scrolled": false
   },
   "outputs": [
    {
     "data": {
      "image/png": "[encoded data removed]",
      "text/plain": [
       "<Figure size 1296x576 with 1 Axes>"
      ]
     },
     "metadata": {
      "needs_background": "light"
     },
     "output_type": "display_data"
    }
   ],
   "source": [
    "df2.index =  df2['자격증']\n",
    "df2[job].plot(kind = 'bar', grid=True, figsize=(18,8), title = job + ' 추천 자격증')\n",
    "plt.show()"
   ]
  }
 ],
 "metadata": {
  "kernelspec": {
   "display_name": "Python 3",
   "language": "python",
   "name": "python3"
  },
  "language_info": {
   "codemirror_mode": {
    "name": "ipython",
    "version": 3
   },
   "file_extension": ".py",
   "mimetype": "text/x-python",
   "name": "python",
   "nbconvert_exporter": "python",
   "pygments_lexer": "ipython3",
   "version": "3.7.1"
  }
 },
 "nbformat": 4,
 "nbformat_minor": 2
}
