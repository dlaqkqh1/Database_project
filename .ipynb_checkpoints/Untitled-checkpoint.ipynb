{
 "cells": [
  {
   "cell_type": "code",
   "execution_count": 1,
   "metadata": {},
   "outputs": [],
   "source": [
    "import pandas as pd"
   ]
  },
  {
   "cell_type": "code",
   "execution_count": 9,
   "metadata": {
    "scrolled": true
   },
   "outputs": [],
   "source": [
    "df = pd.read_csv('correlation analysis.csv', engine = 'python', index_col = 0)"
   ]
  },
  {
   "cell_type": "code",
   "execution_count": 11,
   "metadata": {},
   "outputs": [
    {
     "data": {
      "text/html": [
       "<div>\n",
       "<style scoped>\n",
       "    .dataframe tbody tr th:only-of-type {\n",
       "        vertical-align: middle;\n",
       "    }\n",
       "\n",
       "    .dataframe tbody tr th {\n",
       "        vertical-align: top;\n",
       "    }\n",
       "\n",
       "    .dataframe thead th {\n",
       "        text-align: right;\n",
       "    }\n",
       "</style>\n",
       "<table border=\"1\" class=\"dataframe\">\n",
       "  <thead>\n",
       "    <tr style=\"text-align: right;\">\n",
       "      <th></th>\n",
       "      <th>DA</th>\n",
       "      <th>데이터 개발자</th>\n",
       "      <th>데이터 엔지니어</th>\n",
       "      <th>데이터 분석가</th>\n",
       "      <th>DBA</th>\n",
       "      <th>데이터 사이언티스트</th>\n",
       "      <th>데이터 컨설턴트</th>\n",
       "      <th>데이터 기획/마케터</th>\n",
       "    </tr>\n",
       "  </thead>\n",
       "  <tbody>\n",
       "    <tr>\n",
       "      <th>데이터아키텍쳐전문가(DAP)</th>\n",
       "      <td>0.738035</td>\n",
       "      <td>0.717233</td>\n",
       "      <td>0.639505</td>\n",
       "      <td>0.755782</td>\n",
       "      <td>0.689856</td>\n",
       "      <td>0.688111</td>\n",
       "      <td>0.619113</td>\n",
       "      <td>0.603499</td>\n",
       "    </tr>\n",
       "    <tr>\n",
       "      <th>데이터아키텍쳐준전문가(DAsP)</th>\n",
       "      <td>0.379039</td>\n",
       "      <td>0.361748</td>\n",
       "      <td>0.274539</td>\n",
       "      <td>0.422508</td>\n",
       "      <td>0.316999</td>\n",
       "      <td>0.325537</td>\n",
       "      <td>0.256258</td>\n",
       "      <td>0.246971</td>\n",
       "    </tr>\n",
       "    <tr>\n",
       "      <th>SQL전문가(SQLP)</th>\n",
       "      <td>0.861501</td>\n",
       "      <td>0.840690</td>\n",
       "      <td>0.801002</td>\n",
       "      <td>0.834965</td>\n",
       "      <td>0.841397</td>\n",
       "      <td>0.856044</td>\n",
       "      <td>0.777941</td>\n",
       "      <td>0.760685</td>\n",
       "    </tr>\n",
       "    <tr>\n",
       "      <th>SQL개발자(SQLD)</th>\n",
       "      <td>0.601651</td>\n",
       "      <td>0.581404</td>\n",
       "      <td>0.522586</td>\n",
       "      <td>0.602956</td>\n",
       "      <td>0.561796</td>\n",
       "      <td>0.585067</td>\n",
       "      <td>0.499252</td>\n",
       "      <td>0.486296</td>\n",
       "    </tr>\n",
       "    <tr>\n",
       "      <th>데이터분석전문가(ADP)</th>\n",
       "      <td>0.165059</td>\n",
       "      <td>0.152026</td>\n",
       "      <td>0.047341</td>\n",
       "      <td>0.241226</td>\n",
       "      <td>0.089175</td>\n",
       "      <td>0.084444</td>\n",
       "      <td>0.034732</td>\n",
       "      <td>0.029370</td>\n",
       "    </tr>\n",
       "    <tr>\n",
       "      <th>데이터분석준전문가(ADsP)</th>\n",
       "      <td>0.620756</td>\n",
       "      <td>0.603616</td>\n",
       "      <td>0.497764</td>\n",
       "      <td>0.676549</td>\n",
       "      <td>0.553504</td>\n",
       "      <td>0.533849</td>\n",
       "      <td>0.481866</td>\n",
       "      <td>0.468437</td>\n",
       "    </tr>\n",
       "    <tr>\n",
       "      <th>정보처리기사</th>\n",
       "      <td>0.809996</td>\n",
       "      <td>0.791197</td>\n",
       "      <td>0.671678</td>\n",
       "      <td>0.876358</td>\n",
       "      <td>0.739505</td>\n",
       "      <td>0.686997</td>\n",
       "      <td>0.660436</td>\n",
       "      <td>0.643083</td>\n",
       "    </tr>\n",
       "  </tbody>\n",
       "</table>\n",
       "</div>"
      ],
      "text/plain": [
       "                          DA   데이터 개발자  데이터 엔지니어   데이터 분석가       DBA  \\\n",
       "데이터아키텍쳐전문가(DAP)     0.738035  0.717233  0.639505  0.755782  0.689856   \n",
       "데이터아키텍쳐준전문가(DAsP)   0.379039  0.361748  0.274539  0.422508  0.316999   \n",
       "SQL전문가(SQLP)        0.861501  0.840690  0.801002  0.834965  0.841397   \n",
       "SQL개발자(SQLD)        0.601651  0.581404  0.522586  0.602956  0.561796   \n",
       "데이터분석전문가(ADP)       0.165059  0.152026  0.047341  0.241226  0.089175   \n",
       "데이터분석준전문가(ADsP)     0.620756  0.603616  0.497764  0.676549  0.553504   \n",
       "정보처리기사              0.809996  0.791197  0.671678  0.876358  0.739505   \n",
       "\n",
       "                    데이터 사이언티스트  데이터 컨설턴트  데이터 기획/마케터  \n",
       "데이터아키텍쳐전문가(DAP)       0.688111  0.619113    0.603499  \n",
       "데이터아키텍쳐준전문가(DAsP)     0.325537  0.256258    0.246971  \n",
       "SQL전문가(SQLP)          0.856044  0.777941    0.760685  \n",
       "SQL개발자(SQLD)          0.585067  0.499252    0.486296  \n",
       "데이터분석전문가(ADP)         0.084444  0.034732    0.029370  \n",
       "데이터분석준전문가(ADsP)       0.533849  0.481866    0.468437  \n",
       "정보처리기사                0.686997  0.660436    0.643083  "
      ]
     },
     "execution_count": 11,
     "metadata": {},
     "output_type": "execute_result"
    }
   ],
   "source": [
    "df"
   ]
  },
  {
   "cell_type": "code",
   "execution_count": 22,
   "metadata": {},
   "outputs": [
    {
     "data": {
      "text/html": [
       "<div>\n",
       "<style scoped>\n",
       "    .dataframe tbody tr th:only-of-type {\n",
       "        vertical-align: middle;\n",
       "    }\n",
       "\n",
       "    .dataframe tbody tr th {\n",
       "        vertical-align: top;\n",
       "    }\n",
       "\n",
       "    .dataframe thead th {\n",
       "        text-align: right;\n",
       "    }\n",
       "</style>\n",
       "<table border=\"1\" class=\"dataframe\">\n",
       "  <thead>\n",
       "    <tr style=\"text-align: right;\">\n",
       "      <th></th>\n",
       "      <th>DA</th>\n",
       "    </tr>\n",
       "  </thead>\n",
       "  <tbody>\n",
       "    <tr>\n",
       "      <th>SQL전문가(SQLP)</th>\n",
       "      <td>0.861501</td>\n",
       "    </tr>\n",
       "  </tbody>\n",
       "</table>\n",
       "</div>"
      ],
      "text/plain": [
       "                     DA\n",
       "SQL전문가(SQLP)   0.861501"
      ]
     },
     "execution_count": 22,
     "metadata": {},
     "output_type": "execute_result"
    }
   ],
   "source": [
    "df[df['DA'] == df['DA'].max()][['DA']]"
   ]
  }
 ],
 "metadata": {
  "kernelspec": {
   "display_name": "Python 3",
   "language": "python",
   "name": "python3"
  },
  "language_info": {
   "codemirror_mode": {
    "name": "ipython",
    "version": 3
   },
   "file_extension": ".py",
   "mimetype": "text/x-python",
   "name": "python",
   "nbconvert_exporter": "python",
   "pygments_lexer": "ipython3",
   "version": "3.7.1"
  }
 },
 "nbformat": 4,
 "nbformat_minor": 2
}
